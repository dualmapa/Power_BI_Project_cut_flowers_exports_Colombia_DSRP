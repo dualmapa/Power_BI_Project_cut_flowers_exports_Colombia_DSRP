{
  "nbformat": 4,
  "nbformat_minor": 0,
  "metadata": {
    "colab": {
      "provenance": []
    },
    "kernelspec": {
      "name": "python3",
      "display_name": "Python 3"
    },
    "language_info": {
      "name": "python"
    }
  },
  "cells": [
    {
      "cell_type": "code",
      "execution_count": 69,
      "metadata": {
        "id": "_qsMmYDVOhRq"
      },
      "outputs": [],
      "source": [
        "import pandas as pd\n",
        "import numpy as np\n",
        "import matplotlib.pyplot as plt\n",
        "import seaborn as sns\n",
        "import warnings\n",
        "warnings.filterwarnings('ignore')"
      ]
    },
    {
      "cell_type": "code",
      "source": [
        "# Recargar el archivo con ajustes detectados\n",
        "try:\n",
        "    df_DANE = pd.read_csv('/content/BD_DANE_Certificado_Origen.csv', delimiter=';', encoding='utf-8-sig')\n",
        "    df_DANE_info = df_DANE.info()  # Información general del DataFrame\n",
        "    df_DANE_head = df_DANE.head()  # Primeras filas para validar\n",
        "    df_DANE_info, df_DANE_head\n",
        "except Exception as e:\n",
        "    str(e)"
      ],
      "metadata": {
        "colab": {
          "base_uri": "https://localhost:8080/"
        },
        "id": "OI_jffXNO-QZ",
        "outputId": "bbc5c6eb-b36c-4904-a785-c4bd8aaee0cd"
      },
      "execution_count": 70,
      "outputs": [
        {
          "output_type": "stream",
          "name": "stdout",
          "text": [
            "<class 'pandas.core.frame.DataFrame'>\n",
            "RangeIndex: 128084 entries, 0 to 128083\n",
            "Data columns (total 6 columns):\n",
            " #   Column               Non-Null Count   Dtype \n",
            "---  ------               --------------   ----- \n",
            " 0   Partida Aduanera     128084 non-null  int64 \n",
            " 1   Certificado Origen   128084 non-null  object\n",
            " 2   Departamento_código  128084 non-null  int64 \n",
            " 3   Año                  128084 non-null  int64 \n",
            " 4   Mes#                 128084 non-null  int64 \n",
            " 5   Mes                  128084 non-null  object\n",
            "dtypes: int64(4), object(2)\n",
            "memory usage: 5.9+ MB\n"
          ]
        }
      ]
    },
    {
      "cell_type": "code",
      "source": [
        "# Recargar el archivo con ajustes detectados\n",
        "try:\n",
        "    df_ica = pd.read_csv('/content/BD_ica_sisfito_PP.csv', delimiter=';', encoding='utf-8-sig')\n",
        "    df_ica_info = df_ica.info()  # Información general del DataFrame\n",
        "    ddf_ica_head = df_ica.head()  # Primeras filas para validar\n",
        "    df_ica_info, df_ica_head\n",
        "except Exception as e:\n",
        "    str(e)"
      ],
      "metadata": {
        "colab": {
          "base_uri": "https://localhost:8080/"
        },
        "id": "trDy62EkQCdh",
        "outputId": "da121142-4c2b-4e78-c29f-0b3368d06669"
      },
      "execution_count": 71,
      "outputs": [
        {
          "output_type": "stream",
          "name": "stdout",
          "text": [
            "<class 'pandas.core.frame.DataFrame'>\n",
            "RangeIndex: 4098 entries, 0 to 4097\n",
            "Data columns (total 5 columns):\n",
            " #   Column                Non-Null Count  Dtype \n",
            "---  ------                --------------  ----- \n",
            " 0   Nombre del Predio     4098 non-null   object\n",
            " 1   Departamento          4098 non-null   object\n",
            " 2   Municipio             4098 non-null   object\n",
            " 3   Descripcion Especies  4098 non-null   object\n",
            " 4   Nombre Cientifico     4098 non-null   object\n",
            "dtypes: object(5)\n",
            "memory usage: 160.2+ KB\n"
          ]
        }
      ]
    },
    {
      "cell_type": "code",
      "source": [
        "# Recargar el archivo con ajustes detectados\n",
        "try:\n",
        "    df = pd.read_csv('/content/BD_exports_veritrade.csv', delimiter=';', encoding='utf-8-sig')\n",
        "    df_info = df.info()  # Información general del DataFrame\n",
        "    df_head = df.head()  # Primeras filas para validar\n",
        "    df_info, df_head\n",
        "except Exception as e:\n",
        "    str(e)"
      ],
      "metadata": {
        "colab": {
          "base_uri": "https://localhost:8080/"
        },
        "id": "D1_R3dICQcp2",
        "outputId": "f6751c64-b921-4ccd-8611-428bed3750e2"
      },
      "execution_count": 72,
      "outputs": [
        {
          "output_type": "stream",
          "name": "stdout",
          "text": [
            "<class 'pandas.core.frame.DataFrame'>\n",
            "RangeIndex: 551726 entries, 0 to 551725\n",
            "Data columns (total 11 columns):\n",
            " #   Column                              Non-Null Count   Dtype  \n",
            "---  ------                              --------------   -----  \n",
            " 0   Partida Aduanera                    551726 non-null  int64  \n",
            " 1   Descripcion de la Partida Aduanera  551726 non-null  object \n",
            " 2   Fecha                               551726 non-null  object \n",
            " 3   Exportador                          551616 non-null  object \n",
            " 4   Importador                          551723 non-null  object \n",
            " 5   Kg Neto                             550885 non-null  float64\n",
            " 6   U$ FOB Tot                          550486 non-null  float64\n",
            " 7   Pais de Destino                     551726 non-null  object \n",
            " 8   Via                                 551726 non-null  object \n",
            " 9   Ciudad del Exportador               551627 non-null  object \n",
            " 10  Ciudad del Importador               479671 non-null  object \n",
            "dtypes: float64(2), int64(1), object(8)\n",
            "memory usage: 46.3+ MB\n"
          ]
        }
      ]
    },
    {
      "cell_type": "code",
      "source": [
        "# Eliminar columnas innecesarias\n",
        "df = df.drop(['Importador', 'Ciudad del Importador'], axis=1, errors='ignore')"
      ],
      "metadata": {
        "id": "YBu5qhndYNF4"
      },
      "execution_count": 73,
      "outputs": []
    },
    {
      "cell_type": "code",
      "source": [
        "# prompt: df tiene datos duplicados, cuántos? y borrralos y el porcentaje de estos en el df\n",
        "\n",
        "# Check for duplicates\n",
        "duplicates = df.duplicated()\n",
        "num_duplicates = duplicates.sum()\n",
        "print(f\"Number of duplicate rows: {num_duplicates}\")\n",
        "\n",
        "# Calculate the percentage of duplicates\n",
        "percentage_duplicates = (num_duplicates / len(df)) * 100\n",
        "print(f\"Percentage of duplicate rows: {percentage_duplicates:.2f}%\")\n",
        "\n",
        "# Remove duplicates\n",
        "df_no_duplicates = df.drop_duplicates()\n",
        "\n",
        "# Print the shape of the DataFrame before and after removing duplicates\n",
        "print(f\"Shape before removing duplicates: {df.shape}\")\n",
        "print(f\"Shape after removing duplicates: {df_no_duplicates.shape}\")\n",
        "\n",
        "df = df_no_duplicates #assign the df without duplicates to df"
      ],
      "metadata": {
        "colab": {
          "base_uri": "https://localhost:8080/"
        },
        "id": "3afeUfv3RZvo",
        "outputId": "226a2cc0-647f-4252-e04f-84cd70fbd6dc"
      },
      "execution_count": 74,
      "outputs": [
        {
          "output_type": "stream",
          "name": "stdout",
          "text": [
            "Number of duplicate rows: 4195\n",
            "Percentage of duplicate rows: 0.76%\n",
            "Shape before removing duplicates: (551726, 9)\n",
            "Shape after removing duplicates: (547531, 9)\n"
          ]
        }
      ]
    },
    {
      "cell_type": "code",
      "source": [
        "# prompt: hay duplicados en el df?\n",
        "\n",
        "# Check for duplicates in each DataFrame\n",
        "\n",
        "# df_DANE\n",
        "duplicates_dane = df_DANE.duplicated()\n",
        "num_duplicates_dane = duplicates_dane.sum()\n",
        "print(f\"Number of duplicate rows in df_DANE: {num_duplicates_dane}\")\n",
        "\n",
        "# df_ica\n",
        "duplicates_ica = df_ica.duplicated()\n",
        "num_duplicates_ica = duplicates_ica.sum()\n",
        "print(f\"Number of duplicate rows in df_ica: {num_duplicates_ica}\")\n",
        "\n",
        "# df\n",
        "duplicates = df.duplicated()\n",
        "num_duplicates = duplicates.sum()\n",
        "print(f\"Number of duplicate rows in df: {num_duplicates}\")"
      ],
      "metadata": {
        "colab": {
          "base_uri": "https://localhost:8080/"
        },
        "id": "53ZQeqb2S2zU",
        "outputId": "c4cce43a-d1f9-4ce5-cb2a-ff638a44c1c7"
      },
      "execution_count": 75,
      "outputs": [
        {
          "output_type": "stream",
          "name": "stdout",
          "text": [
            "Number of duplicate rows in df_DANE: 126143\n",
            "Number of duplicate rows in df_ica: 28\n",
            "Number of duplicate rows in df: 0\n"
          ]
        }
      ]
    },
    {
      "cell_type": "code",
      "source": [
        "# prompt: hay datos nulos?\n",
        "\n",
        "# Check for null values in each DataFrame\n",
        "\n",
        "# df_DANE\n",
        "null_values_dane = df_DANE.isnull().sum()\n",
        "print(\"Null values in df_DANE:\\n\", null_values_dane)\n",
        "\n",
        "# df_ica\n",
        "null_values_ica = df_ica.isnull().sum()\n",
        "print(\"\\nNull values in df_ica:\\n\", null_values_ica)\n",
        "\n",
        "# df\n",
        "null_values = df.isnull().sum()\n",
        "print(\"\\nNull values in df:\\n\", null_values)"
      ],
      "metadata": {
        "colab": {
          "base_uri": "https://localhost:8080/"
        },
        "id": "rJ2XQrDbRsao",
        "outputId": "8c316991-aa6f-4d9c-dfa1-e00cd2c78fdf"
      },
      "execution_count": 76,
      "outputs": [
        {
          "output_type": "stream",
          "name": "stdout",
          "text": [
            "Null values in df_DANE:\n",
            " Partida Aduanera       0\n",
            "Certificado Origen     0\n",
            "Departamento_código    0\n",
            "Año                    0\n",
            "Mes#                   0\n",
            "Mes                    0\n",
            "dtype: int64\n",
            "\n",
            "Null values in df_ica:\n",
            " Nombre del Predio       0\n",
            "Departamento            0\n",
            "Municipio               0\n",
            "Descripcion Especies    0\n",
            "Nombre Cientifico       0\n",
            "dtype: int64\n",
            "\n",
            "Null values in df:\n",
            " Partida Aduanera                         0\n",
            "Descripcion de la Partida Aduanera       0\n",
            "Fecha                                    0\n",
            "Exportador                             110\n",
            "Kg Neto                                770\n",
            "U$ FOB Tot                            1102\n",
            "Pais de Destino                          0\n",
            "Via                                      0\n",
            "Ciudad del Exportador                   99\n",
            "dtype: int64\n"
          ]
        }
      ]
    },
    {
      "cell_type": "code",
      "source": [
        "# prompt: borrar datos nulos en df y comprobar cantidades borradas y porcentajes\n",
        "\n",
        "# Drop rows with any null values in 'df'\n",
        "rows_before = len(df)\n",
        "df_dropped = df.dropna()\n",
        "rows_after = len(df_dropped)\n",
        "\n",
        "# Calculate the number and percentage of dropped rows\n",
        "rows_dropped = rows_before - rows_after\n",
        "percentage_dropped = (rows_dropped / rows_before) * 100\n",
        "\n",
        "print(f\"Number of rows dropped: {rows_dropped}\")\n",
        "print(f\"Percentage of rows dropped: {percentage_dropped:.2f}%\")\n",
        "\n",
        "# Assign the modified DataFrame back to 'df'\n",
        "df = df_dropped"
      ],
      "metadata": {
        "colab": {
          "base_uri": "https://localhost:8080/"
        },
        "id": "q0Z2nBQbYpG_",
        "outputId": "a026fc88-24c8-4b9f-ec80-29ce441fd734"
      },
      "execution_count": 77,
      "outputs": [
        {
          "output_type": "stream",
          "name": "stdout",
          "text": [
            "Number of rows dropped: 2047\n",
            "Percentage of rows dropped: 0.37%\n"
          ]
        }
      ]
    },
    {
      "cell_type": "code",
      "source": [
        "# prompt: revisemos nuevamente los datos nulos\n",
        "\n",
        "# Check for null values in each DataFrame after dropping rows\n",
        "\n",
        "# df_DANE\n",
        "null_values_dane = df_DANE.isnull().sum()\n",
        "print(\"Null values in df_DANE:\\n\", null_values_dane)\n",
        "\n",
        "# df_ica\n",
        "null_values_ica = df_ica.isnull().sum()\n",
        "print(\"\\nNull values in df_ica:\\n\", null_values_ica)\n",
        "\n",
        "# df\n",
        "null_values = df.isnull().sum()\n",
        "print(\"\\nNull values in df:\\n\", null_values)"
      ],
      "metadata": {
        "colab": {
          "base_uri": "https://localhost:8080/"
        },
        "id": "a8I-iTAuSLCo",
        "outputId": "0bafee79-bd25-474a-b327-1787f423132a"
      },
      "execution_count": 78,
      "outputs": [
        {
          "output_type": "stream",
          "name": "stdout",
          "text": [
            "Null values in df_DANE:\n",
            " Partida Aduanera       0\n",
            "Certificado Origen     0\n",
            "Departamento_código    0\n",
            "Año                    0\n",
            "Mes#                   0\n",
            "Mes                    0\n",
            "dtype: int64\n",
            "\n",
            "Null values in df_ica:\n",
            " Nombre del Predio       0\n",
            "Departamento            0\n",
            "Municipio               0\n",
            "Descripcion Especies    0\n",
            "Nombre Cientifico       0\n",
            "dtype: int64\n",
            "\n",
            "Null values in df:\n",
            " Partida Aduanera                      0\n",
            "Descripcion de la Partida Aduanera    0\n",
            "Fecha                                 0\n",
            "Exportador                            0\n",
            "Kg Neto                               0\n",
            "U$ FOB Tot                            0\n",
            "Pais de Destino                       0\n",
            "Via                                   0\n",
            "Ciudad del Exportador                 0\n",
            "dtype: int64\n"
          ]
        }
      ]
    },
    {
      "cell_type": "markdown",
      "source": [],
      "metadata": {
        "id": "rf0g_z7wY8Cg"
      }
    },
    {
      "cell_type": "markdown",
      "source": [],
      "metadata": {
        "id": "dTvqGCRRY7_r"
      }
    },
    {
      "cell_type": "markdown",
      "source": [],
      "metadata": {
        "id": "GdMJ51TkY78M"
      }
    },
    {
      "cell_type": "code",
      "source": [
        "# df_DANE\n",
        "print(\"Información general de df_DANE:\")\n",
        "df_DANE.info()\n",
        "\n",
        "# df_ica\n",
        "print(\"\\nInformación general de df_ica:\")\n",
        "df_ica.info()\n",
        "\n",
        "# df\n",
        "print(\"\\nInformación general de df:\")\n",
        "df.info()"
      ],
      "metadata": {
        "colab": {
          "base_uri": "https://localhost:8080/"
        },
        "id": "wk7hiM1TToiS",
        "outputId": "cc450a71-1a83-4480-dfab-56e2df10aae7"
      },
      "execution_count": 79,
      "outputs": [
        {
          "output_type": "stream",
          "name": "stdout",
          "text": [
            "Información general de df_DANE:\n",
            "<class 'pandas.core.frame.DataFrame'>\n",
            "RangeIndex: 128084 entries, 0 to 128083\n",
            "Data columns (total 6 columns):\n",
            " #   Column               Non-Null Count   Dtype \n",
            "---  ------               --------------   ----- \n",
            " 0   Partida Aduanera     128084 non-null  int64 \n",
            " 1   Certificado Origen   128084 non-null  object\n",
            " 2   Departamento_código  128084 non-null  int64 \n",
            " 3   Año                  128084 non-null  int64 \n",
            " 4   Mes#                 128084 non-null  int64 \n",
            " 5   Mes                  128084 non-null  object\n",
            "dtypes: int64(4), object(2)\n",
            "memory usage: 5.9+ MB\n",
            "\n",
            "Información general de df_ica:\n",
            "<class 'pandas.core.frame.DataFrame'>\n",
            "RangeIndex: 4098 entries, 0 to 4097\n",
            "Data columns (total 5 columns):\n",
            " #   Column                Non-Null Count  Dtype \n",
            "---  ------                --------------  ----- \n",
            " 0   Nombre del Predio     4098 non-null   object\n",
            " 1   Departamento          4098 non-null   object\n",
            " 2   Municipio             4098 non-null   object\n",
            " 3   Descripcion Especies  4098 non-null   object\n",
            " 4   Nombre Cientifico     4098 non-null   object\n",
            "dtypes: object(5)\n",
            "memory usage: 160.2+ KB\n",
            "\n",
            "Información general de df:\n",
            "<class 'pandas.core.frame.DataFrame'>\n",
            "Index: 545484 entries, 0 to 551725\n",
            "Data columns (total 9 columns):\n",
            " #   Column                              Non-Null Count   Dtype  \n",
            "---  ------                              --------------   -----  \n",
            " 0   Partida Aduanera                    545484 non-null  int64  \n",
            " 1   Descripcion de la Partida Aduanera  545484 non-null  object \n",
            " 2   Fecha                               545484 non-null  object \n",
            " 3   Exportador                          545484 non-null  object \n",
            " 4   Kg Neto                             545484 non-null  float64\n",
            " 5   U$ FOB Tot                          545484 non-null  float64\n",
            " 6   Pais de Destino                     545484 non-null  object \n",
            " 7   Via                                 545484 non-null  object \n",
            " 8   Ciudad del Exportador               545484 non-null  object \n",
            "dtypes: float64(2), int64(1), object(6)\n",
            "memory usage: 41.6+ MB\n"
          ]
        }
      ]
    },
    {
      "cell_type": "code",
      "source": [
        "print(\"Columns in df_DANE:\", df_DANE.columns)\n",
        "print(\"\\nColumns in df_ica:\", df_ica.columns)\n",
        "print(\"\\nColumns in df:\", df.columns)"
      ],
      "metadata": {
        "colab": {
          "base_uri": "https://localhost:8080/"
        },
        "id": "K15GBr7nUJFw",
        "outputId": "042e99a3-a674-42d6-ab40-70c0ec49d344"
      },
      "execution_count": 80,
      "outputs": [
        {
          "output_type": "stream",
          "name": "stdout",
          "text": [
            "Columns in df_DANE: Index(['Partida Aduanera', 'Certificado Origen', 'Departamento_código', 'Año',\n",
            "       'Mes#', 'Mes'],\n",
            "      dtype='object')\n",
            "\n",
            "Columns in df_ica: Index(['Nombre del Predio', 'Departamento', 'Municipio',\n",
            "       'Descripcion Especies', 'Nombre Cientifico'],\n",
            "      dtype='object')\n",
            "\n",
            "Columns in df: Index(['Partida Aduanera', 'Descripcion de la Partida Aduanera', 'Fecha',\n",
            "       'Exportador', 'Kg Neto', 'U$ FOB Tot', 'Pais de Destino', 'Via',\n",
            "       'Ciudad del Exportador'],\n",
            "      dtype='object')\n"
          ]
        }
      ]
    },
    {
      "cell_type": "code",
      "source": [
        "# prompt: cambiemos partida aduanera en las dos tablas por tipo object\n",
        "\n",
        "# Convert 'Partida Aduanera' columns to object type\n",
        "df_DANE['Partida Aduanera'] = df_DANE['Partida Aduanera'].astype(object)\n",
        "df['Partida Aduanera'] = df['Partida Aduanera'].astype(object)"
      ],
      "metadata": {
        "id": "IqYd6nlBUO8k"
      },
      "execution_count": 81,
      "outputs": []
    },
    {
      "cell_type": "code",
      "source": [
        "# prompt: exportemos los datos como csv\n",
        "\n",
        "# Export the DataFrame 'df' to a CSV file\n",
        "df.to_csv('BD_exports_veritrade_Python.csv', index=False, encoding='utf-8-sig')"
      ],
      "metadata": {
        "id": "udCMOsXGVErx"
      },
      "execution_count": 82,
      "outputs": []
    },
    {
      "cell_type": "code",
      "source": [
        "df_ica.to_csv('BD_ica_Python.csv', index=False, encoding='utf-8-sig')"
      ],
      "metadata": {
        "id": "7CbsAFQVVVhR"
      },
      "execution_count": 83,
      "outputs": []
    },
    {
      "cell_type": "code",
      "source": [
        "df_DANE.to_csv('BD_DANE_Python.csv', index=False, encoding='utf-8-sig')"
      ],
      "metadata": {
        "id": "bkWCQZANVZ2n"
      },
      "execution_count": 84,
      "outputs": []
    },
    {
      "cell_type": "code",
      "source": [
        "(551726-545484)"
      ],
      "metadata": {
        "colab": {
          "base_uri": "https://localhost:8080/"
        },
        "id": "FIdqjwhYV7gY",
        "outputId": "fc4c413b-75a8-4d4d-d659-65772a872043"
      },
      "execution_count": 86,
      "outputs": [
        {
          "output_type": "execute_result",
          "data": {
            "text/plain": [
              "6242"
            ]
          },
          "metadata": {},
          "execution_count": 86
        }
      ]
    },
    {
      "cell_type": "code",
      "source": [
        "(551726-545484)/551726"
      ],
      "metadata": {
        "colab": {
          "base_uri": "https://localhost:8080/"
        },
        "id": "krSK_XF6WPEW",
        "outputId": "c7edf1c0-4622-4e62-a77d-8702e42fd602"
      },
      "execution_count": 87,
      "outputs": [
        {
          "output_type": "execute_result",
          "data": {
            "text/plain": [
              "0.011313586816644494"
            ]
          },
          "metadata": {},
          "execution_count": 87
        }
      ]
    },
    {
      "cell_type": "code",
      "source": [
        "(551726-545484)/551726*100"
      ],
      "metadata": {
        "colab": {
          "base_uri": "https://localhost:8080/"
        },
        "id": "V_jQ_gobWW_m",
        "outputId": "ec13e92e-e617-4f59-8e8d-88047782e424"
      },
      "execution_count": 88,
      "outputs": [
        {
          "output_type": "execute_result",
          "data": {
            "text/plain": [
              "1.1313586816644494"
            ]
          },
          "metadata": {},
          "execution_count": 88
        }
      ]
    },
    {
      "cell_type": "code",
      "source": [],
      "metadata": {
        "id": "6eGZMuboWZfV"
      },
      "execution_count": null,
      "outputs": []
    }
  ]
}